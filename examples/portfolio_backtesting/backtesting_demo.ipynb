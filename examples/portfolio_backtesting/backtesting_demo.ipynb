{
 "cells": [
  {
   "cell_type": "code",
   "execution_count": 1,
   "metadata": {},
   "outputs": [],
   "source": [
    "#%%\n",
    "from datetime import datetime\n",
    "from importlib import reload\n",
    "\n",
    "import sys\n",
    "sys.path.append('/Users/jessealdridge/Dropbox/vnpy')\n",
    "\n",
    "import vnpy.app.portfolio_strategy\n",
    "reload(vnpy.app.portfolio_strategy)\n",
    "\n",
    "from vnpy.app.portfolio_strategy import BacktestingEngine\n",
    "from vnpy.trader.constant import Interval\n",
    "\n",
    "import vnpy.app.portfolio_strategy.strategies.pair_trading_strategy as stg\n",
    "reload(stg)\n",
    "from vnpy.app.portfolio_strategy.strategies.pair_trading_strategy import PairTradingStrategy\n"
   ]
  },
  {
   "cell_type": "code",
   "execution_count": 2,
   "metadata": {},
   "outputs": [
    {
     "ename": "TypeError",
     "evalue": "set_parameters() missing 1 required positional argument: 'sizes'",
     "output_type": "error",
     "traceback": [
      "\u001b[0;31m---------------------------------------------------------------------------\u001b[0m",
      "\u001b[0;31mTypeError\u001b[0m                                 Traceback (most recent call last)",
      "\u001b[0;32m<ipython-input-2-c5367896bab9>\u001b[0m in \u001b[0;36m<module>\u001b[0;34m\u001b[0m\n\u001b[1;32m      1\u001b[0m \u001b[0;31m#%%\u001b[0m\u001b[0;34m\u001b[0m\u001b[0;34m\u001b[0m\u001b[0;34m\u001b[0m\u001b[0m\n\u001b[1;32m      2\u001b[0m \u001b[0mengine\u001b[0m \u001b[0;34m=\u001b[0m \u001b[0mBacktestingEngine\u001b[0m\u001b[0;34m(\u001b[0m\u001b[0;34m)\u001b[0m\u001b[0;34m\u001b[0m\u001b[0;34m\u001b[0m\u001b[0m\n\u001b[0;32m----> 3\u001b[0;31m engine.set_parameters(\n\u001b[0m\u001b[1;32m      4\u001b[0m     \u001b[0mvt_symbols\u001b[0m\u001b[0;34m=\u001b[0m\u001b[0;34m[\u001b[0m\u001b[0;34m\"AAPL.NYSE\"\u001b[0m\u001b[0;34m,\u001b[0m \u001b[0;34m\"MSFT.NYSE\"\u001b[0m\u001b[0;34m]\u001b[0m\u001b[0;34m,\u001b[0m\u001b[0;34m\u001b[0m\u001b[0;34m\u001b[0m\u001b[0m\n\u001b[1;32m      5\u001b[0m     \u001b[0minterval\u001b[0m\u001b[0;34m=\u001b[0m\u001b[0mInterval\u001b[0m\u001b[0;34m.\u001b[0m\u001b[0mMINUTE\u001b[0m\u001b[0;34m,\u001b[0m\u001b[0;34m\u001b[0m\u001b[0;34m\u001b[0m\u001b[0m\n",
      "\u001b[0;31mTypeError\u001b[0m: set_parameters() missing 1 required positional argument: 'sizes'"
     ]
    }
   ],
   "source": [
    "#%%\n",
    "engine = BacktestingEngine()\n",
    "engine.set_parameters(\n",
    "    vt_symbols=[\"AAPL.NYSE\", \"MSFT.NYSE\"],\n",
    "    interval=Interval.MINUTE,\n",
    "    start=datetime(2019, 1, 1),\n",
    "    end=datetime(2020, 4, 30),\n",
    "    rates={\n",
    "        \"AAPL.NYSE\": 0/10000,\n",
    "        \"MSFT.NYSE\": 0/10000\n",
    "    },\n",
    "    slippages={\n",
    "        \"AAPL.NYSE\": 0,\n",
    "        \"MSFT.NYSE\": 0\n",
    "    },\n",
    "     \n",
    "    priceticks={\n",
    "        \"AAPL.NYSE\": 1,\n",
    "        \"MSFT.NYSE\": 1\n",
    "    },\n",
    "    capital=1_000_000,\n",
    ")\n",
    "\n",
    "setting = {\n",
    "    \"boll_window\": 20,\n",
    "    \"boll_dev\": 1,\n",
    "}\n",
    "engine.add_strategy(PairTradingStrategy, setting)"
   ]
  },
  {
   "cell_type": "code",
   "execution_count": 3,
   "metadata": {},
   "outputs": [
    {
     "name": "stdout",
     "output_type": "stream",
     "text": [
      "2020-08-23 03:03:49.283276\tStart loading historical data\n",
      "2020-08-23 03:03:49.284728\tAAPL.NYSE Loading progress： [6%]\n",
      "2020-08-23 03:03:49.285967\tAAPL.NYSE Loading progress：# [12%]\n",
      "2020-08-23 03:03:49.287119\tAAPL.NYSE Loading progress：# [19%]\n",
      "2020-08-23 03:03:49.288142\tAAPL.NYSE Loading progress：## [25%]\n",
      "2020-08-23 03:03:49.289251\tAAPL.NYSE Loading progress：### [31%]\n",
      "2020-08-23 03:03:49.290461\tAAPL.NYSE Loading progress：### [37%]\n",
      "2020-08-23 03:03:49.292216\tAAPL.NYSE Loading progress：#### [43%]\n",
      "2020-08-23 03:03:49.293457\tAAPL.NYSE Loading progress：#### [49%]\n",
      "2020-08-23 03:03:49.294700\tAAPL.NYSE Loading progress：##### [56%]\n",
      "2020-08-23 03:03:49.296146\tAAPL.NYSE Loading progress：###### [62%]\n",
      "2020-08-23 03:03:49.297654\tAAPL.NYSE Loading progress：###### [68%]\n",
      "2020-08-23 03:03:49.298827\tAAPL.NYSE Loading progress：####### [74%]\n",
      "2020-08-23 03:03:49.300038\tAAPL.NYSE Loading progress：######## [80%]\n",
      "2020-08-23 03:03:49.301207\tAAPL.NYSE Loading progress：######## [87%]\n",
      "2020-08-23 03:03:49.302297\tAAPL.NYSE Loading progress：######### [93%]\n",
      "2020-08-23 03:03:49.303127\tAAPL.NYSE Loading progress：######### [99%]\n",
      "2020-08-23 03:03:49.304206\tAAPL.NYSE Loading progress：########## [100%]\n",
      "2020-08-23 03:03:49.304242\tAAPL.NYSE The historical data has been loaded, the amount of data: 0\n",
      "2020-08-23 03:03:49.305485\tMSFT.NYSE Loading progress： [6%]\n",
      "2020-08-23 03:03:49.306493\tMSFT.NYSE Loading progress：# [12%]\n",
      "2020-08-23 03:03:49.307681\tMSFT.NYSE Loading progress：# [19%]\n",
      "2020-08-23 03:03:49.308796\tMSFT.NYSE Loading progress：## [25%]\n",
      "2020-08-23 03:03:49.309787\tMSFT.NYSE Loading progress：### [31%]\n",
      "2020-08-23 03:03:49.311014\tMSFT.NYSE Loading progress：### [37%]\n",
      "2020-08-23 03:03:49.312035\tMSFT.NYSE Loading progress：#### [43%]\n",
      "2020-08-23 03:03:49.312886\tMSFT.NYSE Loading progress：#### [49%]\n",
      "2020-08-23 03:03:49.313908\tMSFT.NYSE Loading progress：##### [56%]\n",
      "2020-08-23 03:03:49.314771\tMSFT.NYSE Loading progress：###### [62%]\n",
      "2020-08-23 03:03:49.315895\tMSFT.NYSE Loading progress：###### [68%]\n",
      "2020-08-23 03:03:49.316848\tMSFT.NYSE Loading progress：####### [74%]\n",
      "2020-08-23 03:03:49.317848\tMSFT.NYSE Loading progress：######## [80%]\n",
      "2020-08-23 03:03:49.318738\tMSFT.NYSE Loading progress：######## [87%]\n",
      "2020-08-23 03:03:49.319580\tMSFT.NYSE Loading progress：######### [93%]\n",
      "2020-08-23 03:03:49.320311\tMSFT.NYSE Loading progress：######### [99%]\n",
      "2020-08-23 03:03:49.321313\tMSFT.NYSE Loading progress：########## [100%]\n",
      "2020-08-23 03:03:49.321345\tMSFT.NYSE The historical data has been loaded, the amount of data: 0\n",
      "2020-08-23 03:03:49.321359\tAll historical data loaded\n",
      "2020-08-23 03:03:49.321454\tStrategy initialization completed\n",
      "2020-08-23 03:03:49.321479\tStart playback of historical data\n",
      "2020-08-23 03:03:49.321666\tEnd of historical data playback\n",
      "2020-08-23 03:03:49.321772\tStart calculating mark-to-market profit and loss\n",
      "2020-08-23 03:03:49.321805\tThe transaction record is empty and cannot be calculated\n",
      "2020-08-23 03:03:49.321860\tStart calculating strategy statistics\n",
      "2020-08-23 03:03:49.321882\t------------------------------\n",
      "2020-08-23 03:03:49.321894\tFirst trading day: \t\n",
      "2020-08-23 03:03:49.321906\tLast trading day: \t\n",
      "2020-08-23 03:03:49.321929\tTotal trading days: \t0\n",
      "2020-08-23 03:03:49.321944\tProfitable days: \t0\n",
      "2020-08-23 03:03:49.321958\tLoss Days: \t0\n",
      "2020-08-23 03:03:49.321975\tStarting capital: \t1,000,000.00\n",
      "2020-08-23 03:03:49.321988\tEnding capital: \t0.00\n",
      "2020-08-23 03:03:49.322007\tTotal return: \t0.00%\n",
      "2020-08-23 03:03:49.322043\tAnnualized return: \t0.00%\n",
      "2020-08-23 03:03:49.322076\tMax drawdown: \t0.00\n",
      "2020-08-23 03:03:49.322091\tMax drawdown percent: 0.00%\n",
      "2020-08-23 03:03:49.322108\tMaximum drawdown days: \t0\n",
      "2020-08-23 03:03:49.322125\tTotal profit and loss: \t0.00\n",
      "2020-08-23 03:03:49.322142\tTotal commissions: \t0.00\n",
      "2020-08-23 03:03:49.322156\tTotal slippage: \t0.00\n",
      "2020-08-23 03:03:49.322168\tTotal turnover: \t0.00\n",
      "2020-08-23 03:03:49.322180\tTotal trade count: \t0\n",
      "2020-08-23 03:03:49.322192\tAverage daily profit and loss: \t0.00\n",
      "2020-08-23 03:03:49.322216\tAverage daily commission: \t0.00\n",
      "2020-08-23 03:03:49.322231\tAverage daily slippage: \t0.00\n",
      "2020-08-23 03:03:49.322246\tAverage daily turnover: \t0.00\n",
      "2020-08-23 03:03:49.322257\tAverage daily trade count: \t0\n",
      "2020-08-23 03:03:49.322269\tAverage daily rate of return: \t0.00%\n",
      "2020-08-23 03:03:49.322282\tReturn standard deviation: \t0.00%\n",
      "2020-08-23 03:03:49.322297\tSharpe Ratio: \t0.00\n",
      "2020-08-23 03:03:49.322311\tEarnings drawdown ratio: \t0.00\n",
      "2020-08-23 03:03:49.322420\tCompletion of calculation of strategy statistics indicators\n"
     ]
    }
   ],
   "source": [
    "#%%\n",
    "engine.load_data()\n",
    "engine.run_backtesting()\n",
    "df = engine.calculate_result()\n",
    "engine.calculate_statistics()\n",
    "engine.show_chart()"
   ]
  },
  {
   "cell_type": "code",
   "execution_count": null,
   "metadata": {},
   "outputs": [],
   "source": []
  }
 ],
 "metadata": {
  "kernelspec": {
   "display_name": "vnpy",
   "language": "python",
   "name": "crashrank"
  },
  "language_info": {
   "codemirror_mode": {
    "name": "ipython",
    "version": 3
   },
   "file_extension": ".py",
   "mimetype": "text/x-python",
   "name": "python",
   "nbconvert_exporter": "python",
   "pygments_lexer": "ipython3",
   "version": "3.8.1"
  }
 },
 "nbformat": 4,
 "nbformat_minor": 4
}
